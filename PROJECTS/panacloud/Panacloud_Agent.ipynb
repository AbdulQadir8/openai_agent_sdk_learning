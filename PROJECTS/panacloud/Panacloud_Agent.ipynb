{
  "nbformat": 4,
  "nbformat_minor": 0,
  "metadata": {
    "colab": {
      "provenance": []
    },
    "kernelspec": {
      "name": "python3",
      "display_name": "Python 3"
    },
    "language_info": {
      "name": "python"
    }
  },
  "cells": [
    {
      "cell_type": "markdown",
      "source": [
        "# Install OpenAI Agents SDK"
      ],
      "metadata": {
        "id": "j8-XEKVniI--"
      }
    },
    {
      "cell_type": "code",
      "execution_count": 14,
      "metadata": {
        "id": "b3-qscs0SILc"
      },
      "outputs": [],
      "source": [
        "!pip install -Uq openai-agents"
      ]
    },
    {
      "cell_type": "markdown",
      "source": [
        "# Make your Notebook capable of running asynchronous functions.\n"
      ],
      "metadata": {
        "id": "6gh31XmziktI"
      }
    },
    {
      "cell_type": "code",
      "source": [
        "import nest_asyncio\n",
        "nest_asyncio.apply()"
      ],
      "metadata": {
        "id": "Zi3hVF51iR3E"
      },
      "execution_count": 15,
      "outputs": []
    },
    {
      "cell_type": "code",
      "source": [
        "import asyncio\n",
        "from agents import Agent, handoff, Runner, RunContextWrapper"
      ],
      "metadata": {
        "id": "cLPJeLNj5KeJ"
      },
      "execution_count": 16,
      "outputs": []
    },
    {
      "cell_type": "markdown",
      "source": [
        "# config"
      ],
      "metadata": {
        "id": "e6BYZgari0eZ"
      }
    },
    {
      "cell_type": "code",
      "source": [
        "from pydantic import BaseModel\n",
        "from agents import (\n",
        "    AsyncOpenAI,\n",
        "    OpenAIChatCompletionsModel,\n",
        "    RunConfig)\n",
        "from google.colab import userdata"
      ],
      "metadata": {
        "id": "-BEqIVJdiuL9"
      },
      "execution_count": 17,
      "outputs": []
    },
    {
      "cell_type": "code",
      "source": [
        "gemini_api_key = userdata.get(\"GEMINI_API_KEY\")\n",
        "\n",
        "\n",
        "# Check if the API is present; if not, raise an error\n",
        "if not gemini_api_key:\n",
        "    raise ValueError(\"GEMINI_API_KEY is not set. Please ensure it is defined in your .env file.\")\n",
        "\n",
        "\n",
        "#Reference: https://ai.google.dev/gemini-api/docs/openai\n",
        "external_client = AsyncOpenAI(\n",
        "    api_key=gemini_api_key,\n",
        "    base_url=\"https://generativelanguage.googleapis.com/v1beta/openai/\",\n",
        ")\n",
        "\n",
        "model = OpenAIChatCompletionsModel(\n",
        "    model=\"gemini-2.0-flash\",\n",
        "    openai_client=external_client\n",
        ")\n",
        "\n",
        "config = RunConfig(\n",
        "    model=model,\n",
        "    model_provider=external_client,\n",
        "    tracing_disabled=True\n",
        ")"
      ],
      "metadata": {
        "id": "smO4AnTLj4PK"
      },
      "execution_count": 18,
      "outputs": []
    },
    {
      "cell_type": "markdown",
      "source": [
        "# Panacloud Agent"
      ],
      "metadata": {
        "id": "o-fmNMAY_hNC"
      }
    },
    {
      "cell_type": "code",
      "source": [],
      "metadata": {
        "id": "XljaVvhF5RAE"
      },
      "execution_count": 18,
      "outputs": []
    },
    {
      "cell_type": "code",
      "source": [
        "_devops_agent = Agent(\n",
        "    name=\"DevOps Agent\",\n",
        "    instructions=\"Answer questions about DevOps\",\n",
        "    handoff_description=\"An assitant to answer Devops related queries.\",\n",
        "    model=model)\n",
        "\n",
        "_openai_agent = Agent(\n",
        "    name=\"OpenAI Agent\",\n",
        "    instructions=\"Answer questions about OpenAI Agents SDK\",\n",
        "    handoff_description=\"An assistant to answer OpenAI Agent SDK related queries\",\n",
        "    model=model)"
      ],
      "metadata": {
        "id": "kS95n115Ch3v"
      },
      "execution_count": 59,
      "outputs": []
    },
    {
      "cell_type": "code",
      "source": [
        "web_dev_agent = Agent(\n",
        "    name=\"Web Dev Agent\",\n",
        "    instructions=\"Answer questions about web development\",)\n",
        "\n",
        "mobile_dev_agent = Agent(\n",
        "    name=\"Mobile Dev Agent\",\n",
        "    instructions=\"Answer questions about mobile development\",)\n",
        "\n",
        "agentic_ai_agent = Agent(\n",
        "    name=\"Agentic AI Agent\",\n",
        "    instructions=(\n",
        "        \"You are an Agentic AI Specialist. You use the tools given to you to to answer questions.\"\n",
        "        \"If you asked multiple questions, you call the relevant tools in order.\"\n",
        "        \"You never answer on your own, always call the provided tools.\"\n",
        "    ),\n",
        "    tools=[_devops_agent.as_tool(\n",
        "        tool_name=\"devops_specilist\",\n",
        "        tool_description=\"Answer questions about DevOps\"),\n",
        "          _openai_agent.as_tool(\n",
        "        tool_name=\"openai_sdk_specialist\",\n",
        "        tool_description=\"Answer questions about OpenAI\"),\n",
        "          ]\n",
        "    )"
      ],
      "metadata": {
        "id": "0Kl8xwpQAvf7"
      },
      "execution_count": 60,
      "outputs": []
    },
    {
      "cell_type": "code",
      "source": [
        "def on_handoff(agent: Agent, ctx: RunContextWrapper[None]):\n",
        "    agent_name = agent.name\n",
        "    print(\"--------------------------------\")\n",
        "    print(f\"Handing off to {agent_name}...\")\n",
        "    print(\"--------------------------------\")\n",
        "\n",
        "\n",
        "\n",
        "\n",
        "panacloud_agent = Agent(\n",
        "    name=\"Panacloud Agent\",\n",
        "    instructions=\"Handoff to the appropriate agent based on the query\",\n",
        "    handoffs=[handoff(web_dev_agent, on_handoff= lambda ctx: on_handoff(web_dev_agent, ctx)),\n",
        "              handoff(mobile_dev_agent, on_handoff= lambda ctx: on_handoff(mobile_dev_agent, ctx)),\n",
        "              handoff(agentic_ai_agent, on_handoff= lambda ctx: on_handoff(agentic_ai_agent, ctx))]\n",
        ")\n"
      ],
      "metadata": {
        "id": "wO-uivijA6WQ"
      },
      "execution_count": 61,
      "outputs": []
    },
    {
      "cell_type": "code",
      "source": [
        "async def main(input: str):\n",
        "  result = await Runner.run(panacloud_agent, input=input, run_config=config)\n",
        "  print(result.final_output)"
      ],
      "metadata": {
        "id": "S4jjs5heBGHG"
      },
      "execution_count": 62,
      "outputs": []
    },
    {
      "cell_type": "code",
      "source": [
        "asyncio.run(main(\"Which stack is popular in 2025 for Mobile app development?\"))"
      ],
      "metadata": {
        "colab": {
          "base_uri": "https://localhost:8080/"
        },
        "id": "m7ZbivpPCX8b",
        "outputId": "4b80aaa2-620b-4e6b-e709-614e392544ce"
      },
      "execution_count": 63,
      "outputs": [
        {
          "output_type": "stream",
          "name": "stdout",
          "text": [
            "--------------------------------\n",
            "Handing off to Mobile Dev Agent...\n",
            "--------------------------------\n",
            "Okay, let's speculate on popular mobile app development stacks for 2025.  It's tough to say with *absolute* certainty, as the tech landscape evolves rapidly, but we can make some educated guesses based on current trends:\n",
            "\n",
            "**Factors Influencing Popularity in 2025:**\n",
            "\n",
            "*   **Cross-Platform Dominance:** The desire to write code once and deploy to both iOS and Android will remain strong. Cross-platform solutions will likely continue to gain traction.\n",
            "*   **Performance:**  Native-like performance will still be a critical factor, especially for demanding applications (games, AR/VR, etc.).\n",
            "*   **Developer Productivity:**  Frameworks and tools that streamline development, offer hot reloading, and robust debugging will be highly valued.\n",
            "*   **Ecosystem & Community:**  A large and active community means better support, more readily available libraries, and faster problem-solving.\n",
            "*   **Emerging Technologies:**  New technologies like AI/ML integration, advancements in AR/VR, and the growth of the metaverse could influence framework adoption.\n",
            "*   **Web Assembly (WASM):** WASM might play a bigger role, allowing web-based code to run closer to native speed on mobile devices.\n",
            "*   **Low-Code/No-Code:** These platforms will continue to mature and might become more popular for simpler applications.\n",
            "\n",
            "**Possible Popular Stacks in 2025:**\n",
            "\n",
            "Here are a few contenders, broken down by category:\n",
            "\n",
            "**1. Evolving Cross-Platform Titans:**\n",
            "\n",
            "*   **React Native:**  Still a very strong contender.  Expect continued improvements in performance, tooling, and community support. The backing of Meta (Facebook) gives it considerable staying power.  Look for more seamless integration with native modules.\n",
            "*   **Flutter:**  Google's Flutter is gaining significant ground. Its performance, rich widget library, and hot reload capabilities make it very attractive.  Expect further expansion in its ecosystem and adoption. It will continue to be a major player.\n",
            "*   **Kotlin Multiplatform Mobile (KMM):** This allows you to share business logic between iOS and Android while using native UIs. It is still relatively young but has the backing of JetBrains (the creators of Kotlin), and it's particularly appealing for teams already invested in Kotlin for Android.  Expect increased maturity and tooling support.\n",
            "\n",
            "**2. Native Development (Always Relevant):**\n",
            "\n",
            "*   **Swift (iOS) / Objective-C (Legacy iOS):** For applications demanding the absolute best performance and tight integration with iOS features, native development will remain crucial.  Swift will be the dominant language.\n",
            "*   **Kotlin (Android) / Java (Legacy Android):** Similarly, for Android, Kotlin is the preferred language for modern development, offering a better developer experience and more modern features than Java. Java will still be relevant due to legacy codebases.\n",
            "\n",
            "**3. Web-Based Approaches (Potentially Rising):**\n",
            "\n",
            "*   **Progressive Web Apps (PWAs):** PWAs blur the line between web and native apps.  If browsers continue to improve PWA capabilities (better offline support, access to more device features), they could become a more viable option for certain types of applications.\n",
            "*   **Frameworks with WASM Support:** Frameworks that compile to WebAssembly (like Blazor WebAssembly, or potentially new ones) could offer a way to write web-based code that runs with near-native performance on mobile.\n",
            "\n",
            "**4. Low-Code/No-Code Platforms:**\n",
            "\n",
            "*   **(Various Platforms - e.g., OutSystems, Mendix, Appian):**  These platforms will likely become more sophisticated, allowing for the creation of more complex mobile applications with minimal coding. They will be popular for citizen developers and rapid prototyping.\n",
            "\n",
            "**Specific Predictions (More Speculative):**\n",
            "\n",
            "*   **AI-Powered Development Tools:** Expect more AI-powered tools to assist with code generation, debugging, and testing within these stacks.\n",
            "*   **AR/VR Integration:** Frameworks will likely offer better built-in support for AR/VR features, enabling developers to create more immersive mobile experiences.\n",
            "*   **Focus on Security:**  Security will be an even bigger concern, leading to frameworks with enhanced security features and better tools for vulnerability detection.\n",
            "*   **Increased Adoption of Declarative UI:** Declarative UI frameworks (like SwiftUI and Jetpack Compose) will become more widespread, simplifying UI development.\n",
            "\n",
            "**In summary:**\n",
            "\n",
            "It's likely that in 2025, you'll see a mix of these stacks being used.  React Native and Flutter will probably still be the dominant cross-platform choices.  Kotlin and Swift will remain essential for native development. KMM will see increased adoption. Web-based approaches might gain more traction, and low-code/no-code platforms will cater to specific use cases. The *best* stack for a particular project will depend on factors like performance requirements, budget, team skills, and project complexity.\n",
            "\n"
          ]
        }
      ]
    },
    {
      "cell_type": "code",
      "source": [
        "asyncio.run(main(\"Tell me about latest top 5 Web development frameworks?\"))"
      ],
      "metadata": {
        "colab": {
          "base_uri": "https://localhost:8080/"
        },
        "id": "X09IK1RIKRyR",
        "outputId": "e43ed0db-35f3-4f88-b34d-f48c3984376c"
      },
      "execution_count": 64,
      "outputs": [
        {
          "output_type": "stream",
          "name": "stdout",
          "text": [
            "--------------------------------\n",
            "Handing off to Web Dev Agent...\n",
            "--------------------------------\n",
            "Okay, let's talk about the top 5 web development frameworks currently making waves.  It's tough to give a definitive \"best\" list as it depends heavily on the project requirements, team expertise, and specific priorities. However, these are generally considered leading frameworks, each with its strengths and weaknesses:\n",
            "\n",
            "**1. React (JavaScript Library/Framework - Front-End):**\n",
            "\n",
            "*   **What it is:** Technically a JavaScript *library* for building user interfaces, React is often used as a full-fledged framework due to its ecosystem and tooling. It's maintained by Facebook and a large open-source community.\n",
            "*   **Key Features:**\n",
            "    *   **Component-Based Architecture:**  Breaks down the UI into reusable components, making development and maintenance easier.\n",
            "    *   **Virtual DOM:** React uses a virtual DOM to optimize updates to the actual DOM, improving performance.\n",
            "    *   **JSX:** Allows you to write HTML-like syntax within JavaScript, making UI development more intuitive.\n",
            "    *   **Large Community & Ecosystem:** Huge selection of libraries, tools, and resources available.\n",
            "    *   **React Native:** Can be used to build native mobile apps using JavaScript.\n",
            "*   **Pros:**\n",
            "    *   Excellent performance\n",
            "    *   Reusable components\n",
            "    *   Large and active community\n",
            "    *   Strong for single-page applications (SPAs) and complex UIs\n",
            "    *   Good for SEO with server-side rendering (Next.js)\n",
            "*   **Cons:**\n",
            "    *   Can be a steep learning curve for beginners due to JSX and component-based architecture.\n",
            "    *   Fast-paced development means the ecosystem can change rapidly.\n",
            "    *   Requires additional libraries for state management (Redux, Zustand, Recoil) in larger applications.\n",
            "*   **When to Use:**  Ideal for building dynamic, interactive UIs, single-page applications, and complex web applications where performance is critical.\n",
            "\n",
            "**2. Angular (TypeScript Framework - Front-End):**\n",
            "\n",
            "*   **What it is:** A comprehensive, open-source front-end framework developed and maintained by Google. It's written in TypeScript, a superset of JavaScript that adds static typing.\n",
            "*   **Key Features:**\n",
            "    *   **TypeScript:** Provides strong typing, improved code organization, and better tooling.\n",
            "    *   **Component-Based Architecture:**  Similar to React, Angular uses components to build UIs.\n",
            "    *   **Dependency Injection:**  A design pattern that helps manage dependencies between components, making code more testable.\n",
            "    *   **Two-Way Data Binding:**  Automatically synchronizes data between the model and the view.\n",
            "    *   **Powerful CLI (Command-Line Interface):**  Simplifies project creation, building, testing, and deployment.\n",
            "*   **Pros:**\n",
            "    *   Well-structured and organized\n",
            "    *   Strongly typed, leading to fewer runtime errors\n",
            "    *   Comprehensive framework with built-in features (routing, state management, forms)\n",
            "    *   Good for large, enterprise-level applications\n",
            "    *   Backed by Google with long-term support.\n",
            "*   **Cons:**\n",
            "    *   Steeper learning curve than React, especially for those unfamiliar with TypeScript.\n",
            "    *   Can be verbose and complex for smaller projects.\n",
            "    *   Larger bundle sizes compared to React.\n",
            "*   **When to Use:**  Best suited for large, complex enterprise applications where maintainability, scalability, and a well-defined structure are crucial.\n",
            "\n",
            "**3. Vue.js (JavaScript Framework - Front-End):**\n",
            "\n",
            "*   **What it is:** A progressive JavaScript framework for building user interfaces. It's designed to be incrementally adoptable, meaning you can use it for a small part of an existing project or build a full-fledged application.\n",
            "*   **Key Features:**\n",
            "    *   **Component-Based Architecture:**  Like React and Angular, Vue.js uses components to build UIs.\n",
            "    *   **Virtual DOM:**  Similar to React, Vue.js uses a virtual DOM for performance optimization.\n",
            "    *   **Simple and Flexible:**  Easy to learn and integrate into existing projects.\n",
            "    *   **Two-Way Data Binding:**  Simplifies data synchronization between the model and the view.\n",
            "    *   **Large and Growing Community:**  Has a vibrant and supportive community.\n",
            "*   **Pros:**\n",
            "    *   Easy to learn and use\n",
            "    *   Highly flexible and adaptable\n",
            "    *   Excellent documentation\n",
            "    *   Good performance\n",
            "    *   Smaller bundle sizes compared to Angular\n",
            "*   **Cons:**\n",
            "    *   Smaller ecosystem compared to React and Angular\n",
            "    *   Can be less opinionated than Angular, which can lead to inconsistencies in larger projects.\n",
            "*   **When to Use:**  A great choice for building single-page applications, interactive components, and progressive enhancements to existing websites.  Also good for projects where ease of learning and integration are important.\n",
            "\n",
            "**4. Node.js (JavaScript Runtime Environment - Back-End):**\n",
            "\n",
            "*   **What it is:**  Not technically a framework, but a JavaScript runtime environment that allows you to run JavaScript on the server-side.  It's built on Chrome's V8 JavaScript engine.  Often used *with* frameworks like Express.js, NestJS, etc.\n",
            "*   **Key Features:**\n",
            "    *   **Asynchronous and Event-Driven:**  Handles multiple requests concurrently without blocking, making it highly scalable.\n",
            "    *   **Non-Blocking I/O:**  Allows the server to continue processing other requests while waiting for I/O operations to complete.\n",
            "    *   **NPM (Node Package Manager):**  A vast repository of open-source packages and modules that can be easily installed and used in your projects.\n",
            "    *   **JavaScript Everywhere:**  Allows you to use the same language (JavaScript) for both the front-end and back-end.\n",
            "*   **Pros:**\n",
            "    *   Excellent performance and scalability\n",
            "    *   Large and active community\n",
            "    *   Vast ecosystem of packages and modules\n",
            "    *   JavaScript familiarity for front-end developers\n",
            "    *   Real-time application support (e.g., chat applications)\n",
            "*   **Cons:**\n",
            "    *   Can be challenging to debug asynchronous code\n",
            "    *   Callback hell (although Promises and async/await have largely mitigated this)\n",
            "    *   Single-threaded, so CPU-intensive tasks can block the event loop (use clustering for mitigation).\n",
            "*   **When to Use:**  Ideal for building scalable and real-time applications, APIs, and back-end services.  Commonly used with frameworks like Express.js or NestJS for structuring applications.\n",
            "\n",
            "**5. Django (Python Framework - Back-End):**\n",
            "\n",
            "*   **What it is:**  A high-level Python web framework that encourages rapid development and clean, pragmatic design.  It follows the \"batteries included\" philosophy, providing many built-in features.\n",
            "*   **Key Features:**\n",
            "    *   **ORM (Object-Relational Mapper):**  Allows you to interact with databases using Python code instead of writing SQL queries.\n",
            "    *   **Template Engine:**  Provides a simple and powerful way to create dynamic HTML pages.\n",
            "    *   **Admin Interface:**  Automatically generates a user-friendly admin interface for managing your data.\n",
            "    *   **Security Features:**  Includes built-in protection against common web vulnerabilities like cross-site scripting (XSS) and cross-site request forgery (CSRF).\n",
            "    *   **\"Batteries Included\":**  Comes with many useful features out of the box, reducing the need for third-party libraries.\n",
            "*   **Pros:**\n",
            "    *   Rapid development\n",
            "    *   Clean and well-organized\n",
            "    *   Excellent security features\n",
            "    *   Scalable\n",
            "    *   Large and active community\n",
            "*   **Cons:**\n",
            "    *   Can be less flexible than some other frameworks\n",
            "    *   Monolithic architecture can be limiting for certain types of applications\n",
            "    *   ORM can be less efficient than raw SQL for complex queries\n",
            "*   **When to Use:**  A great choice for building web applications with complex data models, content management systems (CMS), and e-commerce sites.  Especially good when security and rapid development are priorities.\n",
            "\n",
            "**Honorable Mentions (depending on your specific needs):**\n",
            "\n",
            "*   **Svelte:** A component-based framework that compiles your code to highly optimized vanilla JavaScript at build time.\n",
            "*   **Next.js (React framework):**  A React framework for building server-rendered and statically generated applications.  Great for SEO and performance.\n",
            "*   **Nuxt.js (Vue.js framework):** Similar to Next.js but for Vue.js.\n",
            "*   **Laravel (PHP framework):** A popular PHP framework for building web applications with an elegant syntax.\n",
            "*   **Spring Boot (Java framework):** A popular Java framework for building web applications and microservices.\n",
            "*   **Ruby on Rails (Ruby framework):**  A rapid development framework following the \"convention over configuration\" paradigm.\n",
            "*   **NestJS (Node.js framework):** A framework for building efficient, scalable Node.js server-side applications.\n",
            "\n",
            "**Key Considerations When Choosing a Framework:**\n",
            "\n",
            "*   **Project Requirements:** What type of application are you building?  What are the performance requirements?  What are the security considerations?\n",
            "*   **Team Expertise:**  What frameworks are your developers already familiar with?  What languages are they proficient in?\n",
            "*   **Community Support:**  How large and active is the community?  Are there plenty of resources and tutorials available?\n",
            "*   **Scalability:**  Can the framework handle the expected traffic and data volume as your application grows?\n",
            "*   **Security:**  Does the framework provide built-in security features to protect against common web vulnerabilities?\n",
            "*   **Long-Term Maintainability:**  Is the framework well-maintained and likely to be supported in the future?\n",
            "*   **Learning Curve:**  How long will it take for your developers to learn the framework?\n",
            "\n",
            "It's always a good idea to experiment with a few different frameworks to see which one best fits your needs and preferences.  Good luck!\n",
            "\n"
          ]
        }
      ]
    },
    {
      "cell_type": "code",
      "source": [
        "asyncio.run(main(\"How do you see Agentic AI imapact on Devops Market, Is the Devops maket going to increase? Call the tool available tool.\"))"
      ],
      "metadata": {
        "colab": {
          "base_uri": "https://localhost:8080/"
        },
        "id": "sA_2-7E3Qi39",
        "outputId": "1e5871f1-16ad-43c9-83bc-f18d2570066a"
      },
      "execution_count": 66,
      "outputs": [
        {
          "output_type": "stream",
          "name": "stdout",
          "text": [
            "--------------------------------\n",
            "Handing off to Agentic AI Agent...\n",
            "--------------------------------\n",
            "Yes, the integration of Agentic AI will very likely contribute to the growth of the DevOps market.\n",
            "\n"
          ]
        }
      ]
    },
    {
      "cell_type": "code",
      "source": [],
      "metadata": {
        "id": "vsEMdXq1Q_h6"
      },
      "execution_count": 65,
      "outputs": []
    }
  ]
}