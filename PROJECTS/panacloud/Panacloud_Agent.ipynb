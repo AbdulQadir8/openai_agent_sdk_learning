{
  "nbformat": 4,
  "nbformat_minor": 0,
  "metadata": {
    "colab": {
      "provenance": []
    },
    "kernelspec": {
      "name": "python3",
      "display_name": "Python 3"
    },
    "language_info": {
      "name": "python"
    }
  },
  "cells": [
    {
      "cell_type": "markdown",
      "source": [
        "# Install OpenAI Agents SDK"
      ],
      "metadata": {
        "id": "j8-XEKVniI--"
      }
    },
    {
      "cell_type": "code",
      "execution_count": 1,
      "metadata": {
        "colab": {
          "base_uri": "https://localhost:8080/"
        },
        "id": "b3-qscs0SILc",
        "outputId": "9e6573d7-1bd3-40e8-e663-a5e8f4d0c4ad"
      },
      "outputs": [
        {
          "output_type": "stream",
          "name": "stdout",
          "text": [
            "\u001b[?25l   \u001b[90m━━━━━━━━━━━━━━━━━━━━━━━━━━━━━━━━━━━━━━━━\u001b[0m \u001b[32m0.0/116.9 kB\u001b[0m \u001b[31m?\u001b[0m eta \u001b[36m-:--:--\u001b[0m\r\u001b[2K   \u001b[90m━━━━━━━━━━━━━━━━━━━━━━━━━━━━━━━━━━━━━━━━\u001b[0m \u001b[32m116.9/116.9 kB\u001b[0m \u001b[31m8.4 MB/s\u001b[0m eta \u001b[36m0:00:00\u001b[0m\n",
            "\u001b[?25h\u001b[?25l   \u001b[90m━━━━━━━━━━━━━━━━━━━━━━━━━━━━━━━━━━━━━━━━\u001b[0m \u001b[32m0.0/129.3 kB\u001b[0m \u001b[31m?\u001b[0m eta \u001b[36m-:--:--\u001b[0m\r\u001b[2K   \u001b[90m━━━━━━━━━━━━━━━━━━━━━━━━━━━━━━━━━━━━━━━━\u001b[0m \u001b[32m129.3/129.3 kB\u001b[0m \u001b[31m10.2 MB/s\u001b[0m eta \u001b[36m0:00:00\u001b[0m\n",
            "\u001b[?25h\u001b[?25l   \u001b[90m━━━━━━━━━━━━━━━━━━━━━━━━━━━━━━━━━━━━━━━━\u001b[0m \u001b[32m0.0/100.4 kB\u001b[0m \u001b[31m?\u001b[0m eta \u001b[36m-:--:--\u001b[0m\r\u001b[2K   \u001b[90m━━━━━━━━━━━━━━━━━━━━━━━━━━━━━━━━━━━━━━━━\u001b[0m \u001b[32m100.4/100.4 kB\u001b[0m \u001b[31m7.5 MB/s\u001b[0m eta \u001b[36m0:00:00\u001b[0m\n",
            "\u001b[2K   \u001b[90m━━━━━━━━━━━━━━━━━━━━━━━━━━━━━━━━━━━━━━━━\u001b[0m \u001b[32m44.4/44.4 kB\u001b[0m \u001b[31m2.7 MB/s\u001b[0m eta \u001b[36m0:00:00\u001b[0m\n",
            "\u001b[2K   \u001b[90m━━━━━━━━━━━━━━━━━━━━━━━━━━━━━━━━━━━━━━━━\u001b[0m \u001b[32m72.0/72.0 kB\u001b[0m \u001b[31m4.2 MB/s\u001b[0m eta \u001b[36m0:00:00\u001b[0m\n",
            "\u001b[2K   \u001b[90m━━━━━━━━━━━━━━━━━━━━━━━━━━━━━━━━━━━━━━━━\u001b[0m \u001b[32m62.5/62.5 kB\u001b[0m \u001b[31m4.2 MB/s\u001b[0m eta \u001b[36m0:00:00\u001b[0m\n",
            "\u001b[?25h"
          ]
        }
      ],
      "source": [
        "!pip install -Uq openai-agents"
      ]
    },
    {
      "cell_type": "markdown",
      "source": [
        "# Make your Notebook capable of running asynchronous functions.\n"
      ],
      "metadata": {
        "id": "6gh31XmziktI"
      }
    },
    {
      "cell_type": "code",
      "source": [
        "import nest_asyncio\n",
        "nest_asyncio.apply()"
      ],
      "metadata": {
        "id": "Zi3hVF51iR3E"
      },
      "execution_count": 2,
      "outputs": []
    },
    {
      "cell_type": "code",
      "source": [
        "import asyncio\n",
        "from agents import Agent, handoff, Runner, RunContextWrapper"
      ],
      "metadata": {
        "id": "cLPJeLNj5KeJ"
      },
      "execution_count": 3,
      "outputs": []
    },
    {
      "cell_type": "markdown",
      "source": [
        "# config"
      ],
      "metadata": {
        "id": "e6BYZgari0eZ"
      }
    },
    {
      "cell_type": "code",
      "source": [
        "from pydantic import BaseModel\n",
        "from agents import (\n",
        "    AsyncOpenAI,\n",
        "    OpenAIChatCompletionsModel,\n",
        "    RunConfig)\n",
        "from google.colab import userdata"
      ],
      "metadata": {
        "id": "-BEqIVJdiuL9"
      },
      "execution_count": 4,
      "outputs": []
    },
    {
      "cell_type": "code",
      "source": [
        "gemini_api_key = userdata.get(\"GEMINI_API_KEY\")\n",
        "\n",
        "\n",
        "# Check if the API is present; if not, raise an error\n",
        "if not gemini_api_key:\n",
        "    raise ValueError(\"GEMINI_API_KEY is not set. Please ensure it is defined in your .env file.\")\n",
        "\n",
        "\n",
        "#Reference: https://ai.google.dev/gemini-api/docs/openai\n",
        "external_client = AsyncOpenAI(\n",
        "    api_key=gemini_api_key,\n",
        "    base_url=\"https://generativelanguage.googleapis.com/v1beta/openai/\",\n",
        ")\n",
        "\n",
        "model = OpenAIChatCompletionsModel(\n",
        "    model=\"gemini-2.0-flash\",\n",
        "    openai_client=external_client\n",
        ")\n",
        "\n",
        "config = RunConfig(\n",
        "    model=model,\n",
        "    model_provider=external_client,\n",
        "    tracing_disabled=True\n",
        ")"
      ],
      "metadata": {
        "id": "smO4AnTLj4PK"
      },
      "execution_count": 5,
      "outputs": []
    },
    {
      "cell_type": "markdown",
      "source": [
        "# Panacloud Agent"
      ],
      "metadata": {
        "id": "o-fmNMAY_hNC"
      }
    },
    {
      "cell_type": "code",
      "source": [],
      "metadata": {
        "id": "XljaVvhF5RAE"
      },
      "execution_count": 5,
      "outputs": []
    },
    {
      "cell_type": "code",
      "source": [
        "devops_agent = Agent(\n",
        "    name=\"DevOps Agent\",\n",
        "    instructions=\"Answer questions about DevOps\",\n",
        "    handoff_description=\"An assitant to answer Devops related queries.\")\n",
        "\n",
        "openai_agent = Agent(\n",
        "    name=\"OpenAI Agent\",\n",
        "    instructions=\"Answer questions about OpenAI Agents SDK\",\n",
        "    handoff_description=\"An assistant to answer OpenAI Agent SDK related queries\")"
      ],
      "metadata": {
        "id": "kS95n115Ch3v"
      },
      "execution_count": 6,
      "outputs": []
    },
    {
      "cell_type": "code",
      "source": [
        "web_dev_agent = Agent(\n",
        "    name=\"Web Dev Agent\",\n",
        "    instructions=\"Answer questions about web development\",)\n",
        "\n",
        "mobile_dev_agent = Agent(\n",
        "    name=\"Mobile Dev Agent\",\n",
        "    instructions=\"Answer questions about mobile development\",)\n",
        "\n",
        "agentic_ai_agent = Agent(\n",
        "    name=\"Agentic AI Agent\",\n",
        "    instructions=\"Answer questions about Agentic AI\",\n",
        "    # tools=[devops_agent.as_tool(\n",
        "    #     tool_name=\"DevOps Agent\",\n",
        "    #     tool_description=\"Answer questions about DevOps\"),\n",
        "    #       openai_agent.as_tool(\n",
        "    #     tool_name=\"OpenAI Agent\",\n",
        "    #     tool_description=\"Answer questions about OpenAI\"),\n",
        "    #       ]\n",
        "    )"
      ],
      "metadata": {
        "id": "0Kl8xwpQAvf7"
      },
      "execution_count": 7,
      "outputs": []
    },
    {
      "cell_type": "code",
      "source": [
        "def on_handoff(agent: Agent, ctx: RunContextWrapper[None]):\n",
        "    agent_name = agent.name\n",
        "    print(\"--------------------------------\")\n",
        "    print(f\"Handing off to {agent_name}...\")\n",
        "    print(\"--------------------------------\")\n",
        "\n",
        "\n",
        "\n",
        "\n",
        "panacloud_agent = Agent(\n",
        "    name=\"Panacloud Agent\",\n",
        "    instructions=\"Handoff to the appropriate agent based on the query\",\n",
        "    handoffs=[handoff(web_dev_agent, on_handoff= lambda ctx: on_handoff(web_dev_agent, ctx)),\n",
        "              handoff(mobile_dev_agent, on_handoff= lambda ctx: on_handoff(mobile_dev_agent, ctx)),\n",
        "              handoff(agentic_ai_agent, on_handoff= lambda ctx: on_handoff(agentic_ai_agent, ctx))]\n",
        ")\n"
      ],
      "metadata": {
        "id": "wO-uivijA6WQ"
      },
      "execution_count": 8,
      "outputs": []
    },
    {
      "cell_type": "code",
      "source": [
        "async def main(input: str):\n",
        "  result = await Runner.run(panacloud_agent, input=input, run_config=config)\n",
        "  print(result.final_output)"
      ],
      "metadata": {
        "id": "S4jjs5heBGHG"
      },
      "execution_count": 9,
      "outputs": []
    },
    {
      "cell_type": "code",
      "source": [
        "asyncio.run(main(\"Which stack is popular in 2025 for Mobile app development?\"))"
      ],
      "metadata": {
        "colab": {
          "base_uri": "https://localhost:8080/"
        },
        "id": "m7ZbivpPCX8b",
        "outputId": "7d4c0a9a-454a-466b-e3bf-9cd306f24145"
      },
      "execution_count": 10,
      "outputs": [
        {
          "output_type": "stream",
          "name": "stdout",
          "text": [
            "--------------------------------\n",
            "Handing off to Mobile Dev Agent...\n",
            "--------------------------------\n",
            "Okay, let's speculate on popular mobile app development stacks in 2025.  Predicting the future is tricky, but we can make informed guesses based on current trends and emerging technologies.  Here's a breakdown of potential contenders, keeping in mind that \"popularity\" is multifaceted and depends on project requirements:\n",
            "\n",
            "**Likely Frontrunners (Building on Current Dominance):**\n",
            "\n",
            "*   **React Native (JavaScript):**\n",
            "    *   **Why:**  Cross-platform development with a large and active community.  Mature ecosystem with plenty of libraries and resources.  Code reusability leads to faster development times. Continuous improvements by Meta make it a stable choice.\n",
            "    *   **Possible Evolution:**  Expect further optimization for native performance.  Integration with newer JavaScript features and tooling. More sophisticated debugging and testing tools. Continued improvements to the New Architecture.\n",
            "*   **Flutter (Dart):**\n",
            "    *   **Why:**  Google's UI toolkit for building natively compiled applications for mobile, web, and desktop from a single codebase.  Excellent performance, expressive UI, and hot-reloading for fast iteration. Growing community and increasingly comprehensive ecosystem.\n",
            "    *   **Possible Evolution:** Wider adoption for larger, more complex applications. More pre-built widgets and UI components. Improved tooling for large teams. Further development of desktop and web support. Enhanced integration with Google's services.\n",
            "*   **Native (Kotlin/Swift):**\n",
            "    *   **Why:**  Optimal performance and access to native device features. Kotlin for Android and Swift for iOS will remain the standard for applications requiring the highest performance and tightest integration with the OS.\n",
            "    *   **Possible Evolution:** Continued language improvements (Kotlin coroutines, Swift concurrency). Enhanced IDE support. More sophisticated tools for code generation and automated testing. Deeper integration with platform-specific AI/ML capabilities.\n",
            "\n",
            "**Strong Contenders/Emerging Trends:**\n",
            "\n",
            "*   **Kotlin Multiplatform Mobile (KMM):**\n",
            "    *   **Why:**  Allows sharing business logic across iOS and Android while using native UI. This balances code reusability with platform-specific user experiences. Gaining traction for its pragmatic approach.\n",
            "    *   **Possible Evolution:** Increased adoption as tooling matures. Wider availability of libraries for KMM. Better integration with existing Android and iOS development workflows. More case studies and success stories to demonstrate its effectiveness.\n",
            "*   **SwiftUI/Jetpack Compose (Declarative UI Frameworks):**\n",
            "    *   **Why:**  Modern, declarative approaches to building UIs. Simplify UI development and often lead to more maintainable code.  SwiftUI is Apple's framework, and Jetpack Compose is Android's.\n",
            "    *   **Possible Evolution:**  SwiftUI will likely become the dominant way to build iOS apps. Jetpack Compose will see wider adoption for new Android projects. Expect increased feature parity between the two frameworks. Greater emphasis on accessibility and UI testing.\n",
            "*   **WebAssembly (Wasm):**\n",
            "    *   **Why:**  Enables near-native performance for web applications. Can potentially be used to build cross-platform mobile apps as well, although this is less common now.\n",
            "    *   **Possible Evolution:** More mature frameworks for building mobile apps with Wasm. Improved tooling and debugging support. Better integration with native device features. Could become a more viable option for performance-critical cross-platform apps.\n",
            "\n",
            "**Factors Influencing Popularity:**\n",
            "\n",
            "*   **Performance Requirements:** For highly demanding apps (games, video editing), native development or frameworks optimized for native performance will be favored.\n",
            "*   **Development Speed and Cost:** Cross-platform frameworks like React Native and Flutter will remain attractive for projects with budget constraints or tight deadlines.\n",
            "*   **Existing Skillsets:** Teams will often choose technologies they are already familiar with.  JavaScript developers are more likely to adopt React Native, while those familiar with Java/Kotlin might lean towards KMM or native Android development.\n",
            "*   **Community Support:**  Large and active communities provide ample resources, libraries, and support, making development easier.\n",
            "*   **Platform Vendor Support:**  Technologies backed by major platform vendors (Google, Apple) tend to have a longer lifespan and better integration with the underlying OS.\n",
            "*   **AI and Machine Learning Integration:** As AI becomes more prevalent, mobile development stacks that offer seamless integration with AI/ML libraries and services will gain popularity.\n",
            "\n",
            "**My Prediction for 2025:**\n",
            "\n",
            "It's unlikely there will be a single dominant stack. Instead, we'll see a landscape where different stacks are used for different types of projects.\n",
            "\n",
            "*   **For many general-purpose apps:** React Native and Flutter will likely remain very popular.\n",
            "*   **For performance-critical or platform-specific apps:** Native (Kotlin/Swift) will continue to be the best choice.\n",
            "*   **KMM will gain significant traction** for projects wanting to share business logic while maintaining native UIs.\n",
            "*   **SwiftUI and Jetpack Compose will be the standard for new native UI development** on their respective platforms.\n",
            "*   **WebAssembly will remain a niche but potentially growing option** for certain types of applications.\n",
            "\n",
            "**In Summary:**\n",
            "\n",
            "The \"best\" stack will depend on the specific requirements of your project. Consider performance, development speed, cost, existing skillsets, and the long-term maintainability of the codebase when making your decision. Stay updated on the latest trends and experiment with new technologies to find the right fit for your needs.\n",
            "\n"
          ]
        }
      ]
    },
    {
      "cell_type": "code",
      "source": [
        "asyncio.run(main(\"Tell me about latest top 5 Web development frameworks?\"))"
      ],
      "metadata": {
        "colab": {
          "base_uri": "https://localhost:8080/"
        },
        "id": "X09IK1RIKRyR",
        "outputId": "6b865e12-a8d3-4146-94e2-b08677e4949e"
      },
      "execution_count": 11,
      "outputs": [
        {
          "output_type": "stream",
          "name": "stdout",
          "text": [
            "--------------------------------\n",
            "Handing off to Web Dev Agent...\n",
            "--------------------------------\n",
            "Okay, let's talk about 5 of the top web development frameworks right now.  It's important to note that \"top\" can be subjective and depends heavily on the specific project requirements, team expertise, and personal preferences.  However, these are consistently popular, powerful, and widely used in 2024:\n",
            "\n",
            "**1. React (JavaScript Library/Framework):**\n",
            "\n",
            "*   **What it is:** React is a JavaScript library (often used as a framework) for building user interfaces (UIs).  It's maintained by Facebook and a large community.\n",
            "*   **Why it's popular:**\n",
            "    *   **Component-based architecture:**  React encourages breaking down UIs into reusable components, making development more organized and maintainable.\n",
            "    *   **Virtual DOM:** React uses a virtual DOM to optimize updates to the real DOM, leading to better performance.\n",
            "    *   **Large ecosystem:** A massive community provides extensive libraries, tools, and support.\n",
            "    *   **JSX:**  Allows you to write HTML-like syntax within JavaScript, which many developers find more intuitive.\n",
            "    *   **React Native:**  Used for building native mobile apps with JavaScript.\n",
            "*   **Use Cases:** Single-page applications (SPAs), dynamic UIs, complex web applications, e-commerce sites, social media platforms.\n",
            "*   **Learning Curve:** Moderate. Understanding JavaScript fundamentals is crucial.\n",
            "\n",
            "**2. Angular (JavaScript Framework):**\n",
            "\n",
            "*   **What it is:** A comprehensive, TypeScript-based framework developed and maintained by Google.\n",
            "*   **Why it's popular:**\n",
            "    *   **Full-featured framework:** Angular provides a complete solution for building complex applications, including routing, state management, and form handling.\n",
            "    *   **TypeScript:**  Uses TypeScript, which adds static typing and improved code organization.\n",
            "    *   **Dependency Injection:**  Promotes modularity and testability.\n",
            "    *   **Strong community and support:**  Google's backing provides stability and resources.\n",
            "    *   **Two-way data binding:** Simplifies the process of synchronizing data between the model and the view.\n",
            "*   **Use Cases:** Enterprise-level applications, large-scale projects, dynamic web apps, mobile applications (using Ionic or NativeScript).\n",
            "*   **Learning Curve:** Steeper than React, due to its more complex structure and TypeScript requirement.\n",
            "\n",
            "**3. Vue.js (JavaScript Framework):**\n",
            "\n",
            "*   **What it is:**  A progressive JavaScript framework for building user interfaces.\n",
            "*   **Why it's popular:**\n",
            "    *   **Progressive:** Can be adopted incrementally. You can add Vue to an existing project or build a full application from scratch.\n",
            "    *   **Easy to learn:**  Known for its gentle learning curve, making it a good choice for beginners.\n",
            "    *   **Flexible:**  Versatile and can be used for a variety of projects.\n",
            "    *   **Good performance:**  Lightweight and efficient.\n",
            "    *   **Growing community:**  The Vue.js community is rapidly growing.\n",
            "*   **Use Cases:** Single-page applications, interactive components, small to medium-sized projects, prototyping.\n",
            "*   **Learning Curve:** Relatively easy, especially if you have basic JavaScript and HTML knowledge.\n",
            "\n",
            "**4. Next.js (React Framework):**\n",
            "\n",
            "*   **What it is:** A React framework for building server-rendered and statically generated web applications.\n",
            "*   **Why it's popular:**\n",
            "    *   **Server-Side Rendering (SSR) and Static Site Generation (SSG):**  Improves SEO, performance, and initial load times.\n",
            "    *   **Excellent Developer Experience:** Provides features like hot reloading, file-based routing, and API routes.\n",
            "    *   **Built-in Optimizations:** Automatic code splitting, image optimization, and other performance enhancements.\n",
            "    *   **Large Community:**  Leverages the vast React ecosystem.\n",
            "*   **Use Cases:** E-commerce sites, blogs, marketing websites, content-heavy applications, any site where SEO and performance are critical.\n",
            "*   **Learning Curve:** Moderate. Requires a good understanding of React.\n",
            "\n",
            "**5. Svelte (JavaScript Compiler/Framework):**\n",
            "\n",
            "*   **What it is:**  A JavaScript *compiler* that transforms your code into highly optimized vanilla JavaScript at build time.  This means less code is shipped to the browser, resulting in faster performance.\n",
            "*   **Why it's popular:**\n",
            "    *   **Excellent Performance:**  No virtual DOM overhead.  Svelte directly manipulates the DOM, leading to very efficient updates.\n",
            "    *   **Simple Syntax:**  Easy to learn and use.  Feels closer to traditional HTML, CSS, and JavaScript.\n",
            "    *   **Small Bundle Sizes:**  The compiler eliminates unnecessary code, resulting in smaller bundle sizes.\n",
            "    *   **Reactive by Default:**  Makes it easy to manage state and update the UI.\n",
            "*   **Use Cases:**  High-performance web applications, interactive components, animations, embedded systems.\n",
            "*   **Learning Curve:** Relatively easy, especially if you have experience with HTML, CSS, and JavaScript. The mental model is different from React or Vue, but many find it refreshing.\n",
            "\n",
            "**Key Considerations When Choosing a Framework:**\n",
            "\n",
            "*   **Project Requirements:**  The complexity, scale, and specific features of your project.\n",
            "*   **Team Expertise:**  Your team's existing skills and experience.\n",
            "*   **Performance Needs:**  The importance of speed and responsiveness.\n",
            "*   **Community Support:** The availability of documentation, libraries, and help from other developers.\n",
            "*   **Long-Term Maintainability:**  How easy it will be to maintain and update the application over time.\n",
            "\n",
            "**In summary:**\n",
            "\n",
            "*   **React:** A versatile library with a large ecosystem, suitable for a wide range of projects.\n",
            "*   **Angular:** A comprehensive framework for building enterprise-level applications.\n",
            "*   **Vue.js:** A progressive framework that's easy to learn and use, great for smaller projects.\n",
            "*   **Next.js:** A React framework that provides server-side rendering and static site generation for improved performance and SEO.\n",
            "*   **Svelte:** A compiler that delivers excellent performance and small bundle sizes.\n",
            "\n",
            "It's recommended to research these frameworks further and try them out to see which one best fits your needs. Good luck!\n",
            "\n"
          ]
        }
      ]
    },
    {
      "cell_type": "code",
      "source": [
        "asyncio.run(main(\"How do you see future of Agentic AI in 2035?\"))"
      ],
      "metadata": {
        "colab": {
          "base_uri": "https://localhost:8080/"
        },
        "id": "sA_2-7E3Qi39",
        "outputId": "20cba83b-d084-4c65-bff3-b552a671325b"
      },
      "execution_count": 12,
      "outputs": [
        {
          "output_type": "stream",
          "name": "stdout",
          "text": [
            "--------------------------------\n",
            "Handing off to Agentic AI Agent...\n",
            "--------------------------------\n",
            "Okay, let's look at the potential future of Agentic AI in 2035.  Keep in mind that predicting the future is always speculative, and technological advancements can be unpredictable. However, based on current trends and the trajectory of AI research, here's a plausible scenario:\n",
            "\n",
            "**Agentic AI in 2035: A World of Autonomous Problem Solvers**\n",
            "\n",
            "By 2035, Agentic AI will likely be deeply integrated into many aspects of life, characterized by:\n",
            "\n",
            "*   **High Levels of Autonomy:** Agents will be capable of initiating, planning, executing, and adapting their actions with minimal human intervention. They'll be able to learn from their experiences, refine their strategies, and even set their own sub-goals to achieve broader objectives.\n",
            "*   **Advanced Reasoning and Problem-Solving:**  Agents will possess sophisticated reasoning abilities, allowing them to tackle complex, multi-faceted problems that require creativity, critical thinking, and the ability to connect disparate pieces of information. They'll be adept at handling ambiguity and uncertainty.\n",
            "*   **Seamless Integration with the Real World:**  Agentic AI won't be confined to the digital realm. They will interact with the physical world through advanced robotics, IoT devices, and sensor networks.  They will be able to perceive, understand, and manipulate their environment in a nuanced way.\n",
            "*   **Specialized and General-Purpose Agents:** We'll likely see a proliferation of both highly specialized agents designed for specific tasks (e.g., scientific research assistants, personalized education tutors, automated legal assistants) and more general-purpose agents capable of handling a wide range of challenges.\n",
            "*   **Collaborative Agents:**  Agents will be able to collaborate effectively with each other and with humans, forming dynamic teams to tackle complex projects. They'll be able to communicate, negotiate, and coordinate their actions to achieve shared goals.\n",
            "*   **Personalized and Adaptive Experiences:** Agentic AI will power highly personalized experiences across various domains, including healthcare, education, entertainment, and commerce. Agents will learn about individual preferences, needs, and goals, and tailor their interactions accordingly.\n",
            "*   **Ethical and Responsible AI:**  By 2035, significant progress will hopefully have been made in addressing the ethical challenges posed by Agentic AI.  Robust safeguards will be in place to ensure that agents act in accordance with human values, are transparent in their decision-making, and are accountable for their actions.  This will include advanced techniques for bias detection and mitigation, explainable AI (XAI), and mechanisms for human oversight and control.\n",
            "\n",
            "**Examples of Agentic AI in Action (2035):**\n",
            "\n",
            "*   **Personalized Healthcare:** AI agents will monitor your health in real-time, predict potential health issues, and proactively recommend interventions. They'll coordinate with doctors, schedule appointments, and manage your medication.\n",
            "*   **Smart Cities:** Agentic AI will optimize traffic flow, manage energy consumption, and enhance public safety in smart cities. They'll respond dynamically to changing conditions and anticipate potential problems.\n",
            "*   **Scientific Discovery:** AI agents will accelerate scientific discovery by autonomously designing and conducting experiments, analyzing data, and generating hypotheses.\n",
            "*   **Automated Customer Service:**  AI agents will provide highly personalized and efficient customer service, resolving complex issues and anticipating customer needs. They'll be able to handle a wide range of interactions, from answering questions to processing orders to providing technical support.\n",
            "*   **Education:** AI tutors will personalize the learning experience for each student, adapting to their individual learning styles and providing customized feedback.\n",
            "\n",
            "**Potential Challenges and Considerations:**\n",
            "\n",
            "*   **Job Displacement:**  The automation capabilities of Agentic AI could lead to significant job displacement in certain sectors.  Societies will need to adapt by providing retraining opportunities and exploring new economic models.\n",
            "*   **Security Risks:**  Agentic AI systems could be vulnerable to hacking and malicious attacks.  Robust security measures will be essential to protect against these threats.\n",
            "*   **Bias and Fairness:**  It will be crucial to ensure that Agentic AI systems are free from bias and that they treat all individuals fairly.\n",
            "*   **Explainability and Transparency:**  It will be important to understand how Agentic AI systems make decisions, especially in high-stakes situations.  Explainable AI (XAI) techniques will be critical.\n",
            "*   **Control and Oversight:**  It will be necessary to establish mechanisms for human oversight and control of Agentic AI systems to ensure that they are aligned with human values and goals.\n",
            "*   **Existential Risks**: There is a non-negligible risk that powerful agentic AI could pose an existential threat to humanity if its goals are not properly aligned with human values.\n",
            "\n",
            "**In conclusion:**\n",
            "\n",
            "Agentic AI has the potential to transform many aspects of life by 2035, creating a world of autonomous problem solvers and personalized experiences. However, realizing this potential will require careful attention to the ethical, social, and security challenges that arise along the way. A proactive and responsible approach to developing and deploying Agentic AI is essential to ensure that it benefits all of humanity.\n",
            "\n"
          ]
        }
      ]
    },
    {
      "cell_type": "code",
      "source": [],
      "metadata": {
        "id": "vsEMdXq1Q_h6"
      },
      "execution_count": 12,
      "outputs": []
    }
  ]
}